{
 "cells": [
  {
   "cell_type": "markdown",
   "metadata": {},
   "source": [
    "# Question 1"
   ]
  },
  {
   "cell_type": "code",
   "execution_count": 22,
   "metadata": {},
   "outputs": [
    {
     "name": "stdout",
     "output_type": "stream",
     "text": [
      "f(0) = 6\n"
     ]
    }
   ],
   "source": [
    "a = 0\n",
    "def b():\n",
    "    global a\n",
    "a = c(a)\n",
    "def c(a):\n",
    "    return a + 2\n",
    "print('f(0) = {}'.format(f(0)))"
   ]
  },
  {
   "cell_type": "markdown",
   "metadata": {},
   "source": [
    "Answer: a=6 and this is based on using global keyword to modify the variable outside of current scope.The keyword is used to create a global variable to make changes in a local scope.\n",
    "First b() defined a as global then modify the value by setting a to the value returned by c(a) and the total expression return 2 which set the global a = 2 from a = 0;\n",
    "Second b() also follows the same procedures as first b() but now using a = 2 instead of a = 0 since the value of a has been changed by the first b(), so the total expression set a = 4 from a = 2;\n",
    "And lastly, third b() also follows the same but used the value of a = 4 from last expression and altered the value of a from 4 to 6. \n"
   ]
  },
  {
   "cell_type": "markdown",
   "metadata": {},
   "source": [
    "# Question 2"
   ]
  },
  {
   "cell_type": "code",
   "execution_count": 40,
   "metadata": {},
   "outputs": [
    {
     "name": "stdout",
     "output_type": "stream",
     "text": [
      "File 'my1.txt' not found. \n"
     ]
    }
   ],
   "source": [
    "def fileLength(file):\n",
    "    try:\n",
    "        f = open(file, 'r')\n",
    "        total_lin = 0\n",
    "        for c in f:\n",
    "            total_lin += 1\n",
    "\n",
    "        print(f\"Total Lines: {total_lin}\")\n",
    "        \n",
    "    except Exception as e:\n",
    "        print(f\"File '{file}' not found. \")\n",
    "\n",
    "\n",
    "fileLength('my1.txt')\n"
   ]
  },
  {
   "cell_type": "code",
   "execution_count": 108,
   "metadata": {},
   "outputs": [
    {
     "ename": "SyntaxError",
     "evalue": "invalid syntax (<ipython-input-108-f3f6371a9ddd>, line 8)",
     "output_type": "error",
     "traceback": [
      "\u001b[1;36m  File \u001b[1;32m\"<ipython-input-108-f3f6371a9ddd>\"\u001b[1;36m, line \u001b[1;32m8\u001b[0m\n\u001b[1;33m    print('fileLength is',('midterm.py'))\u001b[0m\n\u001b[1;37m    ^\u001b[0m\n\u001b[1;31mSyntaxError\u001b[0m\u001b[1;31m:\u001b[0m invalid syntax\n"
     ]
    }
   ],
   "source": [
    "def fileLength(file):\n",
    "     'converts first line of file filename to an integer and prints it'\n",
    "fileLength('midterm.py')\n",
    "try:\n",
    "            infile = open(filename)\n",
    "            strName = infile.readline()\n",
    "            name = int(strName)\n",
    "print('fileLength is',('midterm.py'))\n",
    "        except FileNotFoundErrorr:\n",
    "print('file not found.')\n",
    "            \n",
    "            fileLength('idterm.py')"
   ]
  },
  {
   "cell_type": "markdown",
   "metadata": {},
   "source": [
    "# Question 3"
   ]
  },
  {
   "cell_type": "code",
   "execution_count": 110,
   "metadata": {},
   "outputs": [
    {
     "name": "stdout",
     "output_type": "stream",
     "text": [
      "I am a Kangaroo located at coordinates (0,0)\n",
      "I am a Kangaroo located at coordinates (3,0)\n"
     ]
    }
   ],
   "source": [
    "class Marsupial:\n",
    "\n",
    "    def __init__(self, x_coord=0, y_coord=0):\n",
    "        self.__list = []\n",
    "        self.x_coord = x_coord\n",
    "        self.y_coord = y_coord\n",
    "\n",
    "    def put_in_pouch(self, item):\n",
    "        self.__list.append(item)\n",
    "\n",
    "    def pouch_contents(self):\n",
    "        return self.__list\n",
    "\n",
    "m = Marsupial()\n",
    "m.put_in_pouch('doll')\n",
    "m.put_in_pouch('firetruck')\n",
    "m.put_in_pouch('kitten')\n",
    "\n",
    "m.pouch_contents()\n",
    "\n",
    "class Marsupial:\n",
    "\n",
    "    def __init__(self, x_coord=0, y_coord=0):\n",
    "        self.__list = []\n",
    "        self.x_coord = x_coord\n",
    "        self.y_coord = y_coord\n",
    "\n",
    "    def put_in_pouch(self, item):\n",
    "        self.__list.append(item)\n",
    "\n",
    "    def pouch_contents(self):\n",
    "        return self.__list\n",
    "        \n",
    "\n",
    "def pouch_contents(self):\n",
    "        return self.__list\n",
    "        \n",
    "\n",
    "class Kangaroo(Marsupial):\n",
    "\n",
    "    def __init__(self, x_c=0, y_c=0):\n",
    "        super().__init__(x_coord=x_c, y_coord=y_c)\n",
    "\n",
    "    def jump(self, dx, dy):\n",
    "        self.x_coord += dx\n",
    "        self.y_coord += dy\n",
    "\n",
    "    def __str__(self):\n",
    "        return f\"I am a Kangaroo located at coordinates ({self.x_coord},{self.y_coord})\"\n",
    "\n",
    "\n",
    "k = Kangaroo(0,0)\n",
    "print(k)\n",
    "\n",
    "k.put_in_pouch('doll')\n",
    "k.put_in_pouch('firetruck')\n",
    "k.put_in_pouch('kitten')\n",
    "k.pouch_contents()\n",
    "\n",
    "k.jump(1,0)\n",
    "k.jump(1,0)\n",
    "k.jump(1,0)\n",
    "print(k)\n",
    "\n",
    "\n"
   ]
  },
  {
   "cell_type": "markdown",
   "metadata": {},
   "source": [
    "# Question 4"
   ]
  },
  {
   "cell_type": "code",
   "execution_count": 111,
   "metadata": {},
   "outputs": [
    {
     "name": "stdout",
     "output_type": "stream",
     "text": [
      "10\n",
      "5\n",
      "16\n",
      "8\n",
      "4\n",
      "2\n",
      "1\n"
     ]
    }
   ],
   "source": [
    "def isEven(x):\n",
    "    return x%2 == 0;\n",
    "\n",
    "def collatz(x):\n",
    "    if x == 1:\n",
    "        print(1)\n",
    "    elif isEven(x):\n",
    "        print(int(x))\n",
    "        return collatz(x/2)\n",
    "    else:\n",
    "        print(int(x))\n",
    "        d = 3 * x + 1\n",
    "        return collatz(d)\n",
    "\n",
    "\n",
    "collatz(10)\n"
   ]
  },
  {
   "cell_type": "markdown",
   "metadata": {},
   "source": [
    "# Question 5"
   ]
  },
  {
   "cell_type": "code",
   "execution_count": 118,
   "metadata": {},
   "outputs": [
    {
     "name": "stdout",
     "output_type": "stream",
     "text": [
      "0101\n"
     ]
    }
   ],
   "source": [
    "def binary(n):\n",
    "    'prints binary representation of n'\n",
    "    if n < 10:\n",
    "        print(n)\n",
    "    else:\n",
    "        binary(n//10)\n",
    "        print(n%10)\n",
    "\n",
    "integer_binary(10)\n"
   ]
  },
  {
   "cell_type": "markdown",
   "metadata": {},
   "source": [
    "# Question 6"
   ]
  },
  {
   "cell_type": "code",
   "execution_count": 157,
   "metadata": {},
   "outputs": [
    {
     "name": "stdout",
     "output_type": "stream",
     "text": [
      "Encountered a start tag: html\n",
      "Encountered a start tag: head\n",
      "Encountered a start tag: title\n",
      "Encountered an end tag : title\n",
      "Encountered an end tag : head\n"
     ]
    }
   ],
   "source": [
    "from html.parser import HTMLParser\n",
    "\n",
    "class HeadingParser(HTMLParser):\n",
    "\n",
    "        def handle_starttag(self, tag, attrs):\n",
    "            print(\"Encountered a start tag:\", tag)\n",
    "                            \n",
    "            def handle_starttag(self, tag):\n",
    "                print(\"Encountered a start tag :\", tag)\n",
    "              \n",
    "        def handle_endtag(self, tag):\n",
    "            print(\"Encountered an end tag :\", tag)\n",
    "        \n",
    "parser = MyHTMLParser()\n",
    "parser.feed('<html><head><title></title></head>')\n",
    "    "
   ]
  },
  {
   "cell_type": "markdown",
   "metadata": {},
   "source": [
    "# Question 7"
   ]
  },
  {
   "cell_type": "code",
   "execution_count": 236,
   "metadata": {},
   "outputs": [],
   "source": [
    "def frequency(itemList):\n",
    "    'returns frequency of items in itemList'\n",
    "\n",
    "    counters = {}\n",
    "    for item in itemList:\n",
    "        if item in counters: \n",
    "            counters[item] += 1\n",
    "        else: \n",
    "            counters[item] = 1\n",
    "    return counters"
   ]
  },
  {
   "cell_type": "code",
   "execution_count": 249,
   "metadata": {},
   "outputs": [
    {
     "ename": "NameError",
     "evalue": "name 'urls' is not defined",
     "output_type": "error",
     "traceback": [
      "\u001b[1;31m---------------------------------------------------------------------------\u001b[0m",
      "\u001b[1;31mNameError\u001b[0m                                 Traceback (most recent call last)",
      "\u001b[1;32m<ipython-input-249-db387949ae62>\u001b[0m in \u001b[0;36m<module>\u001b[1;34m\u001b[0m\n\u001b[0;32m      2\u001b[0m     webdir('http://reed.cs.depaul.edu/lperkovic/csc242/test1.html'\n\u001b[0;32m      3\u001b[0m , 2, 0)\n\u001b[1;32m----> 4\u001b[1;33m \u001b[1;32mfor\u001b[0m \u001b[0mlink\u001b[0m \u001b[1;32min\u001b[0m \u001b[0murls\u001b[0m\u001b[1;33m:\u001b[0m\u001b[1;33m\u001b[0m\u001b[1;33m\u001b[0m\u001b[0m\n\u001b[0m\u001b[0;32m      5\u001b[0m         \u001b[0mprint\u001b[0m\u001b[1;33m(\u001b[0m\u001b[1;34m'{:45} {:10}'\u001b[0m\u001b[1;33m.\u001b[0m\u001b[0mformat\u001b[0m\u001b[1;33m(\u001b[0m\u001b[0murl\u001b[0m\u001b[1;33m,\u001b[0m \u001b[0mlink\u001b[0m\u001b[1;33m)\u001b[0m\u001b[1;33m)\u001b[0m\u001b[1;33m\u001b[0m\u001b[1;33m\u001b[0m\u001b[0m\n\u001b[0;32m      6\u001b[0m \u001b[1;32mreturn\u001b[0m \u001b[0murls\u001b[0m\u001b[1;33m(\u001b[0m\u001b[1;34m' http://reed.cs.depaul.edu/lperkovic/csc242/test4.html'\u001b[0m\u001b[1;33m)\u001b[0m\u001b[1;33m\u001b[0m\u001b[1;33m\u001b[0m\u001b[0m\n",
      "\u001b[1;31mNameError\u001b[0m: name 'urls' is not defined"
     ]
    }
   ],
   "source": [
    "def webdir():\n",
    "    webdir('http://reed.cs.depaul.edu/lperkovic/csc242/test1.html'\n",
    ", 2, 0)\n",
    "for link in urls:\n",
    "        print('{:45} {:10}'.format(url, link))\n",
    "return urls(' http://reed.cs.depaul.edu/lperkovic/csc242/test4.html')\n",
    "crawl2('http://reed.cs.depaul.edu/lperkovic/one.html')"
   ]
  },
  {
   "cell_type": "code",
   "execution_count": null,
   "metadata": {},
   "outputs": [],
   "source": []
  },
  {
   "cell_type": "markdown",
   "metadata": {},
   "source": [
    "# Question 8"
   ]
  },
  {
   "cell_type": "code",
   "execution_count": 161,
   "metadata": {},
   "outputs": [],
   "source": [
    "import sqlite3\n",
    "from sqlite3 import Error"
   ]
  },
  {
   "cell_type": "code",
   "execution_count": 178,
   "metadata": {},
   "outputs": [
    {
     "data": {
      "text/plain": [
       "<sqlite3.Cursor at 0x23d51c3ca40>"
      ]
     },
     "execution_count": 178,
     "metadata": {},
     "output_type": "execute_result"
    }
   ],
   "source": [
    "import sqlite3\n",
    "con = sqlite3.connect('data.db')\n",
    "cur = con.cursor()\n",
    "cur.execute(\"CREATE TABLE Keywords (Url text, Word text, Freq int)\")\n",
    "cur.execute(\"INSERT INTO Keywords VALUES ('one.html', 'Beijing', 3)\")"
   ]
  },
  {
   "cell_type": "code",
   "execution_count": 172,
   "metadata": {},
   "outputs": [],
   "source": [
    "def create_connection(db_file):\n",
    "    \"\"\" create a database connection to the SQLite database\n",
    "        specified by db_file\n",
    "    :param db_file: database file\n",
    "    :return: Connection object or None\n",
    "    \"\"\""
   ]
  },
  {
   "cell_type": "code",
   "execution_count": 173,
   "metadata": {},
   "outputs": [],
   "source": [
    "def create_table(conn, create_table_sql):\n",
    "    \"\"\" create a table from the create_table_sql statement\n",
    "    :param conn: Connection object\n",
    "    :param create_table_sql: a CREATE TABLE statement\n",
    "    :return:\n",
    "    \"\"\"\n"
   ]
  },
  {
   "cell_type": "code",
   "execution_count": 182,
   "metadata": {},
   "outputs": [],
   "source": [
    "def main():\n",
    "    database = r\"C:\\sqlite\\db\\pythonsqlite.db\"\n",
    "\n",
    "    sql_create_data_table = \"\"\" CREATE TABLE IF NOT EXISTS projects (\n",
    "                                        City VARCHAR(50) NOT NULL,\n",
    "\tCountry VARCHAR(70) NOT NULL,\n",
    "\tSeason VARCHAR(20) NOT NULL,\n",
    "\tTemperature FLOAT NOT NULL,\n",
    "\tRainfall FLOAT NOT NULL\n",
    "\n",
    "                                    ); \"\"\"\n",
    "    "
   ]
  },
  {
   "cell_type": "code",
   "execution_count": 189,
   "metadata": {},
   "outputs": [
    {
     "name": "stdout",
     "output_type": "stream",
     "text": [
      "Connected to database successfully.\n"
     ]
    },
    {
     "ename": "TypeError",
     "evalue": "function takes at most 2 arguments (3 given)",
     "output_type": "error",
     "traceback": [
      "\u001b[1;31m---------------------------------------------------------------------------\u001b[0m",
      "\u001b[1;31mTypeError\u001b[0m                                 Traceback (most recent call last)",
      "\u001b[1;32m<ipython-input-189-71e810536391>\u001b[0m in \u001b[0;36m<module>\u001b[1;34m\u001b[0m\n\u001b[0;32m      4\u001b[0m \u001b[0mprint\u001b[0m\u001b[1;33m(\u001b[0m\u001b[1;34m'Connected to database successfully.'\u001b[0m\u001b[1;33m)\u001b[0m\u001b[1;33m\u001b[0m\u001b[1;33m\u001b[0m\u001b[0m\n\u001b[0;32m      5\u001b[0m \u001b[0mcur\u001b[0m \u001b[1;33m=\u001b[0m \u001b[0mconn\u001b[0m\u001b[1;33m.\u001b[0m\u001b[0mcursor\u001b[0m\u001b[1;33m(\u001b[0m\u001b[1;33m)\u001b[0m\u001b[1;33m\u001b[0m\u001b[1;33m\u001b[0m\u001b[0m\n\u001b[1;32m----> 6\u001b[1;33m \u001b[0mcur\u001b[0m\u001b[1;33m.\u001b[0m\u001b[0mexecute\u001b[0m\u001b[1;33m(\u001b[0m\u001b[1;34m\"insert into data_table(City, Country, Season, Temperature, Rainfall) VALUES('Mumbai', 'India', 'Winter')\"\u001b[0m\u001b[1;33m,\u001b[0m \u001b[1;36m24.8\u001b[0m\u001b[1;33m,\u001b[0m \u001b[1;36m5.9\u001b[0m\u001b[1;33m)\u001b[0m\u001b[1;33m;\u001b[0m\u001b[1;33m\u001b[0m\u001b[1;33m\u001b[0m\u001b[0m\n\u001b[0m\u001b[0;32m      7\u001b[0m \u001b[0mcur\u001b[0m\u001b[1;33m.\u001b[0m\u001b[0mexecute\u001b[0m\u001b[1;33m(\u001b[0m\u001b[1;34m\"INSERT INTO data_table(City, Country, Season, Temperature, Rainfall) VALUES('Mumbai', 'India', 'Spring')\"\u001b[0m\u001b[1;33m,\u001b[0m \u001b[1;36m28.4\u001b[0m\u001b[1;33m,\u001b[0m \u001b[1;36m16.2\u001b[0m\u001b[1;33m)\u001b[0m\u001b[1;33m;\u001b[0m\u001b[1;33m\u001b[0m\u001b[1;33m\u001b[0m\u001b[0m\n\u001b[0;32m      8\u001b[0m \u001b[0mcur\u001b[0m\u001b[1;33m.\u001b[0m\u001b[0mexecute\u001b[0m\u001b[1;33m(\u001b[0m\u001b[1;34m\"INSERT INTO data_table(City, Country, Season, Temperature, Rainfall) VALUES('Mumbai', 'India', 'Summer')\"\u001b[0m\u001b[1;33m,\u001b[0m \u001b[1;36m27.9\u001b[0m\u001b[1;33m,\u001b[0m \u001b[1;36m1549.4\u001b[0m\u001b[1;33m)\u001b[0m\u001b[1;33m;\u001b[0m\u001b[1;33m\u001b[0m\u001b[1;33m\u001b[0m\u001b[0m\n",
      "\u001b[1;31mTypeError\u001b[0m: function takes at most 2 arguments (3 given)"
     ]
    }
   ],
   "source": [
    "import sqlite3\n",
    " \n",
    "conn = sqlite3.connect('web.db')\n",
    "print('Connected to database successfully.')\n",
    "cur = conn.cursor()\n",
    "cur.execute(\"insert into data_table(City, Country, Season, Temperature, Rainfall) VALUES('Mumbai', 'India', 'Winter')\", 24.8, 5.9);\n",
    "cur.execute(\"INSERT INTO data_table(City, Country, Season, Temperature, Rainfall) VALUES('Mumbai', 'India', 'Spring')\", 28.4, 16.2);\n",
    "cur.execute(\"INSERT INTO data_table(City, Country, Season, Temperature, Rainfall) VALUES('Mumbai', 'India', 'Summer')\", 27.9, 1549.4);\n",
    "cur.execute(\"INSERT INTO data_table(City, Country, Season, Temperature, Rainfall) VALUES('Mumbai', 'India', 'Fall')\", 27.6, 346.0);\n",
    "cur.execute(\"INSERT INTO data_table(City, Country, Season, Temperature, Rainfall) VALUES('London', 'United Kngdom', 'Winter')\", 4.2, 207.7);\n",
    "cur.execute(\"INSERT INTO data_table(City, Country, Season, Temperature, Rainfall) VALUES('London', 'United Kngdom', 'Spring')\", 8.3, 169.6);\n",
    "cur.execute(\"INSERT INTO data_table(City, Country, Season, Temperature, Rainfall) VALUES('London', 'United Kngdom', 'Summer')\", 15.7, 157.0);\n",
    "cur.execute(\"INSERT INTO data_table(City, Country, Season, Temperature, Rainfall) VALUES('London', 'United Kngdom', 'Fall')\", 10.4, 218.5);\n",
    "cur.execute(\"INSERT INTO data_table(City, Country, Season, Temperature, Rainfall) VALUES('Cairo', 'Egypt', 'Winter')\", 13.6, 16.5);\n",
    "cur.execute(\"INSERT INTO data_table(City, Country, Season, Temperature, Rainfall) VALUES('Cairo', 'Egypt', 'Spring')\", 20.7, 6.5);\n",
    "cur.execute(\"INSERT INTO data_table(City, Country, Season, Temperature, Rainfall) VALUES('Cairo', 'Egypt', 'Summer')\", 27.7, 0.1);\n",
    "cur.execute(\"INSERT INTO data_table(City, Country, Season, Temperature, Rainfall) VALUES('Cairo', 'Egypt', 'Fall')\", 22.2, 4.5);"
   ]
  },
  {
   "cell_type": "code",
   "execution_count": 191,
   "metadata": {},
   "outputs": [
    {
     "data": {
      "text/plain": [
       "[]"
      ]
     },
     "execution_count": 191,
     "metadata": {},
     "output_type": "execute_result"
    }
   ],
   "source": [
    "con = sqlite3.connect('web.db')\n",
    "cur = con.cursor()\n",
    "cur.execute('SELECT * FROM Keywords')\n",
    "cur.fetchall()"
   ]
  },
  {
   "cell_type": "code",
   "execution_count": 229,
   "metadata": {},
   "outputs": [],
   "source": [
    "def select_all_tasks(conn):\n",
    "    \"\"\"\n",
    "    Query all rows in the data_table\n",
    "    :param conn: the Connection object\n",
    "    :return:\n",
    "    \"\"\"\n",
    "    cur = conn.cursor()\n",
    "    cur.execute(\"SELECT * FROM data\")\n",
    "\n",
    "    rows = cur.fetchall()\n",
    "\n",
    "    for row in rows:\n",
    "        print(row)"
   ]
  },
  {
   "cell_type": "code",
   "execution_count": 227,
   "metadata": {},
   "outputs": [
    {
     "ename": "OperationalError",
     "evalue": "no such table: data_table",
     "output_type": "error",
     "traceback": [
      "\u001b[1;31m---------------------------------------------------------------------------\u001b[0m",
      "\u001b[1;31mOperationalError\u001b[0m                          Traceback (most recent call last)",
      "\u001b[1;32m<ipython-input-227-51c4e61cd3bd>\u001b[0m in \u001b[0;36m<module>\u001b[1;34m\u001b[0m\n\u001b[1;32m----> 1\u001b[1;33m \u001b[0mcur\u001b[0m\u001b[1;33m.\u001b[0m\u001b[0mexecute\u001b[0m\u001b[1;33m(\u001b[0m\u001b[1;34m'SELECT Temperature FROM data_table'\u001b[0m\u001b[1;33m)\u001b[0m\u001b[1;33m;\u001b[0m\u001b[1;33m\u001b[0m\u001b[1;33m\u001b[0m\u001b[0m\n\u001b[0m\u001b[0;32m      2\u001b[0m \u001b[0mcur\u001b[0m\u001b[1;33m.\u001b[0m\u001b[0mexecute\u001b[0m\u001b[1;33m(\u001b[0m\u001b[1;34m'SELECT DISTINCT City FROM data table'\u001b[0m\u001b[1;33m)\u001b[0m\u001b[1;33m;\u001b[0m\u001b[1;33m\u001b[0m\u001b[1;33m\u001b[0m\u001b[0m\n\u001b[0;32m      3\u001b[0m \u001b[0mcur\u001b[0m\u001b[1;33m.\u001b[0m\u001b[0mexecute\u001b[0m\u001b[1;33m(\u001b[0m\u001b[1;34m'SELECT FROM data_table WHERE Country = India'\u001b[0m\u001b[1;33m)\u001b[0m\u001b[1;33m;\u001b[0m\u001b[1;33m\u001b[0m\u001b[1;33m\u001b[0m\u001b[0m\n\u001b[0;32m      4\u001b[0m \u001b[0mcur\u001b[0m\u001b[1;33m.\u001b[0m\u001b[0mexecute\u001b[0m\u001b[1;33m(\u001b[0m\u001b[1;34m'SELECT FROM data_table WHERE Season = Fall'\u001b[0m\u001b[1;33m)\u001b[0m\u001b[1;33m;\u001b[0m\u001b[1;33m\u001b[0m\u001b[1;33m\u001b[0m\u001b[0m\n\u001b[0;32m      5\u001b[0m \u001b[0mcur\u001b[0m\u001b[1;33m.\u001b[0m\u001b[0mexecute\u001b[0m\u001b[1;33m(\u001b[0m\u001b[1;34m'SELECT City, Country, Season FROM data_table WHERE Rainfall > 200 AND Rainfall < 400'\u001b[0m\u001b[1;33m)\u001b[0m\u001b[1;33m;\u001b[0m\u001b[1;33m\u001b[0m\u001b[1;33m\u001b[0m\u001b[0m\n",
      "\u001b[1;31mOperationalError\u001b[0m: no such table: data_table"
     ]
    }
   ],
   "source": [
    "cur.execute('SELECT Temperature FROM data_table');\n",
    "cur.execute('SELECT DISTINCT City FROM data_table');\n",
    "cur.execute('SELECT FROM data_table WHERE Country = India');\n",
    "cur.execute('SELECT FROM data_table WHERE Season = Fall');\n",
    "cur.execute('SELECT City, Country, Season FROM data_table WHERE Rainfall > 200 AND Rainfall < 400');\n",
    "cur.execute('SELECT City, Country FROM data_table WHERE Season = Fall AND Temperature > 20 ORDER BY Temperature');\n",
    "cur.execute('SELECT SUM(Rainfall) FROM data_table WHERE City = Cairo');\n",
    "cur.execute('SELECT SUM(Rainfall), Season FROM data_table GROUP BY Season');"
   ]
  },
  {
   "cell_type": "markdown",
   "metadata": {},
   "source": [
    "# Question 9"
   ]
  },
  {
   "cell_type": "code",
   "execution_count": 208,
   "metadata": {},
   "outputs": [
    {
     "name": "stdout",
     "output_type": "stream",
     "text": [
      "['THE', 'QUICK', 'BROWN', 'FOX', 'JUMPS', 'OVER', 'THE', 'LAZY', 'DOG']\n",
      "['the', 'quick', 'brown', 'fox', 'jumps', 'over', 'the', 'lazy', 'dog']\n",
      "[3, 5, 5, 3, 5, 4, 3, 4, 3]\n",
      "[['THE', 'the', 3], ['QUICK', 'quick', 5], ['BROWN', 'brown', 5], ['FOX', 'fox', 3], ['JUMPS', 'jumps', 5], ['OVER', 'over', 4], ['THE', 'the', 3], ['LAZY', 'lazy', 4], ['DOG', 'dog', 3]]\n",
      "['quick', 'brown', 'jumps', 'over', 'lazy']\n"
     ]
    }
   ],
   "source": [
    "words = ['The', 'quick', 'brown', 'fox', 'jumps', 'over', 'the', 'lazy', 'dog']\n",
    "\n",
    "\n",
    "#(a)\n",
    "print([x.upper() for x in words])\n",
    "#(b)\n",
    "print([x.lower() for x in words])\n",
    "#(c)\n",
    "print([len(x) for x in words])\n",
    "#(d)\n",
    "print([[x.upper(), x.lower(), len(x)] for x in words])\n",
    "#(e)\n",
    "print([x for x in words if len(x) >= 4])\n"
   ]
  },
  {
   "cell_type": "code",
   "execution_count": null,
   "metadata": {},
   "outputs": [],
   "source": []
  }
 ],
 "metadata": {
  "kernelspec": {
   "display_name": "Python 3",
   "language": "python",
   "name": "python3"
  },
  "language_info": {
   "codemirror_mode": {
    "name": "ipython",
    "version": 3
   },
   "file_extension": ".py",
   "mimetype": "text/x-python",
   "name": "python",
   "nbconvert_exporter": "python",
   "pygments_lexer": "ipython3",
   "version": "3.8.5"
  }
 },
 "nbformat": 4,
 "nbformat_minor": 4
}
